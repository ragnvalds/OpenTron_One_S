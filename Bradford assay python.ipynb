{
 "cells": [
  {
   "cell_type": "code",
   "execution_count": 1,
   "metadata": {},
   "outputs": [
    {
     "name": "stdout",
     "output_type": "stream",
     "text": [
      "hell world\n"
     ]
    }
   ],
   "source": []
  },
  {
   "cell_type": "code",
   "execution_count": 2,
   "metadata": {},
   "outputs": [
    {
     "name": "stdout",
     "output_type": "stream",
     "text": [
      "Collecting opentrons\n",
      "\u001b[?25l  Downloading https://files.pythonhosted.org/packages/b1/f4/979f794c5f39c3fc973f8af58440336fe7f12cc73eb1c4058575e0302d12/opentrons-3.11.4-py2.py3-none-any.whl (1.0MB)\n",
      "\u001b[K     |████████████████████████████████| 1.0MB 1.5MB/s eta 0:00:01\n",
      "\u001b[?25hCollecting aiohttp==2.3.8 (from opentrons)\n",
      "\u001b[?25l  Downloading https://files.pythonhosted.org/packages/87/c4/931c462d08ecfad47a65cec8e9ca9699b4d1f920dd456b197a56fdec2944/aiohttp-2.3.8.tar.gz (847kB)\n",
      "\u001b[K     |████████████████████████████████| 849kB 3.5MB/s eta 0:00:01\n",
      "\u001b[?25h  Installing build dependencies ... \u001b[?25ldone\n",
      "\u001b[?25h  Getting requirements to build wheel ... \u001b[?25ldone\n",
      "\u001b[?25h    Preparing wheel metadata ... \u001b[?25ldone\n",
      "\u001b[?25hRequirement already satisfied: jsonschema in /anaconda3/lib/python3.7/site-packages (from opentrons) (3.0.1)\n",
      "Collecting urwid==1.3.1 (from opentrons)\n",
      "\u001b[?25l  Downloading https://files.pythonhosted.org/packages/85/5d/9317d75b7488c335b86bd9559ca03a2a023ed3413d0e8bfe18bea76f24be/urwid-1.3.1.tar.gz (588kB)\n",
      "\u001b[K     |████████████████████████████████| 593kB 2.9MB/s eta 0:00:01\n",
      "\u001b[?25hRequirement already satisfied: numpy>=1.12.1 in /anaconda3/lib/python3.7/site-packages (from opentrons) (1.16.4)\n",
      "Collecting pyserial==3.2.1 (from opentrons)\n",
      "\u001b[?25l  Downloading https://files.pythonhosted.org/packages/c0/a7/25d801d71d2eecbbf0f1142a9d38aa77be71172295259dabb7d91310289c/pyserial-3.2.1-py2.py3-none-any.whl (189kB)\n",
      "\u001b[K     |████████████████████████████████| 194kB 2.8MB/s eta 0:00:01\n",
      "\u001b[?25hCollecting yarl>=1.0.0 (from aiohttp==2.3.8->opentrons)\n",
      "\u001b[?25l  Downloading https://files.pythonhosted.org/packages/fb/84/6d82f6be218c50b547aa29d0315e430cf8a23c52064c92d0a8377d7b7357/yarl-1.3.0.tar.gz (159kB)\n",
      "\u001b[K     |████████████████████████████████| 163kB 3.4MB/s eta 0:00:01\n",
      "\u001b[?25hCollecting async-timeout>=1.2.0 (from aiohttp==2.3.8->opentrons)\n",
      "  Downloading https://files.pythonhosted.org/packages/e1/1e/5a4441be21b0726c4464f3f23c8b19628372f606755a9d2e46c187e65ec4/async_timeout-3.0.1-py3-none-any.whl\n",
      "Requirement already satisfied: chardet in /anaconda3/lib/python3.7/site-packages (from aiohttp==2.3.8->opentrons) (3.0.4)\n",
      "Collecting multidict>=4.0.0 (from aiohttp==2.3.8->opentrons)\n",
      "\u001b[?25l  Downloading https://files.pythonhosted.org/packages/0e/64/39b167d63e292cc2336d09c4d3577089db82cd7886ed535b6100fc7c7966/multidict-4.5.2-cp37-cp37m-macosx_10_12_intel.macosx_10_12_x86_64.macosx_10_13_intel.macosx_10_13_x86_64.whl (196kB)\n",
      "\u001b[K     |████████████████████████████████| 204kB 2.9MB/s eta 0:00:01\n",
      "\u001b[?25hRequirement already satisfied: attrs>=17.4.0 in /anaconda3/lib/python3.7/site-packages (from jsonschema->opentrons) (19.1.0)\n",
      "Requirement already satisfied: pyrsistent>=0.14.0 in /anaconda3/lib/python3.7/site-packages (from jsonschema->opentrons) (0.14.11)\n",
      "Requirement already satisfied: setuptools in /anaconda3/lib/python3.7/site-packages (from jsonschema->opentrons) (41.0.1)\n",
      "Requirement already satisfied: six>=1.11.0 in /anaconda3/lib/python3.7/site-packages (from jsonschema->opentrons) (1.12.0)\n",
      "Requirement already satisfied: idna>=2.0 in /anaconda3/lib/python3.7/site-packages (from yarl>=1.0.0->aiohttp==2.3.8->opentrons) (2.8)\n",
      "Building wheels for collected packages: aiohttp\n",
      "  Building wheel for aiohttp (PEP 517) ... \u001b[?25ldone\n",
      "\u001b[?25h  Stored in directory: /Users/ragnvaldbsteile/Library/Caches/pip/wheels/a8/f3/f5/71d0c1340f3d6f8984829d22d66ca8a62c1eb1cda953a290c6\n",
      "Successfully built aiohttp\n",
      "Building wheels for collected packages: urwid, yarl\n",
      "  Building wheel for urwid (setup.py) ... \u001b[?25ldone\n",
      "\u001b[?25h  Stored in directory: /Users/ragnvaldbsteile/Library/Caches/pip/wheels/4d/3b/b8/723815509f0e45f878e8b244ac714033c72703b6b27324eee0\n",
      "  Building wheel for yarl (setup.py) ... \u001b[?25ldone\n",
      "\u001b[?25h  Stored in directory: /Users/ragnvaldbsteile/Library/Caches/pip/wheels/e3/f0/13/d7c1c5cd76ef321fb635ce79232ca973cd0c91fabaaa71e1c7\n",
      "Successfully built urwid yarl\n",
      "Installing collected packages: multidict, yarl, async-timeout, aiohttp, urwid, pyserial, opentrons\n",
      "Successfully installed aiohttp-2.3.8 async-timeout-3.0.1 multidict-4.5.2 opentrons-3.11.4 pyserial-3.2.1 urwid-1.3.1 yarl-1.3.0\n",
      "Note: you may need to restart the kernel to use updated packages.\n"
     ]
    }
   ],
   "source": [
    "pip install opentrons"
   ]
  },
  {
   "cell_type": "code",
   "execution_count": 3,
   "metadata": {},
   "outputs": [
    {
     "ename": "SyntaxError",
     "evalue": "invalid syntax (<ipython-input-3-f4b04e073fdc>, line 6)",
     "output_type": "error",
     "traceback": [
      "\u001b[0;36m  File \u001b[0;32m\"<ipython-input-3-f4b04e073fdc>\"\u001b[0;36m, line \u001b[0;32m6\u001b[0m\n\u001b[0;31m    trash = containers.load('trash-box', 'C2')q\u001b[0m\n\u001b[0m                                              ^\u001b[0m\n\u001b[0;31mSyntaxError\u001b[0m\u001b[0;31m:\u001b[0m invalid syntax\n"
     ]
    }
   ],
   "source": [
    "from opentrons import containers, instruments\n",
    "\n",
    "\n",
    "tiprack = containers.load('tiprack-200ul', 'B1')\n",
    "tiprack2 = containers.load('tiprack-200ul', 'B2')\n",
    "trash = containers.load('trash-box', 'C2')q\n",
    "\n",
    "trough = containers.load('trough-12row', 'C1')\n",
    "plate = containers.load('96-PCR-flat', 'D1')\n",
    "tuberack = containers.load('tube-rack-2ml', 'D2')\n",
    "\n",
    "m50 = instruments.Pipette(\n",
    "    name=\"p200\",\n",
    "    trash_container=trash,\n",
    "    tip_racks=[tiprack, tiprack2],\n",
    "    max_volume=50,\n",
    "    axis=\"a\",\n",
    "    channels=8\n",
    ")\n",
    "\n",
    "p200 = instruments.Pipette(\n",
    "    name=\"p200S\",\n",
    "    trash_container=trash,\n",
    "    tip_racks=[tiprack],\n",
    "    max_volume=200,\n",
    "    axis=\"b\"\n",
    ")\n",
    "\n",
    "# dispense 6 standards from tube racks (A1, B1, C1, D1, A2, B2)\n",
    "# to first two rows of 96 well plate (duplicates, A1/A2, B1/B2 etc.)\n",
    "for i in range(6):\n",
    "    p200.distribute(\n",
    "        25, tuberack.wells(i), plate.cols(i).wells('1', '2'))\n",
    "    \n",
    "# dispense 9 standards from tube racks (A1, B1, C1, D1, A2, B2, C2, D2 ,A3)\n",
    "# to first two rows of 96 well plate (duplicates, A1/A2, B1/B2 etc.)\n",
    "\n",
    "\n",
    "\n",
    "# dispense 4 samples from tube rack (C2, D2, A3, B3)\n",
    "# to row 3 of 96 well plate (duplicates, A3/B3, C3/D3, E3/F3, G3/H3)\n",
    "p200.distribute(\n",
    "    50,\n",
    "    tuberack.wells('C2', 'D2', 'A3', 'B3'),\n",
    "    plate.rows('3'))\n",
    "\n",
    "# fill rows 4 to 11 with 25 uL of dilutent each\n",
    "m50.distribute(\n",
    "    25,\n",
    "    trough['A1'],\n",
    "    plate.rows('4', length=8))\n",
    "\n",
    "# dilute samples down all rows\n",
    "m50.pick_up_tip()\n",
    "\n",
    "m50.transfer(\n",
    "    25,\n",
    "    plate.rows('3', length=8),\n",
    "    plate.rows('4', length=8),\n",
    "    mix_after=(3, 25),\n",
    "    new_tip='never')\n",
    "\n",
    "# remove 25uL from last row\n",
    "m50.aspirate(25, plate.rows('11')).dispense(trash.wells(0))\n",
    "m50.drop_tip()\n",
    "\n",
    "# fill rows 1 to 11 with 200 uL of Bradford reagent\n",
    "m50.transfer(200, trough['A2'], plate.rows('1', length=11))"
   ]
  },
  {
   "cell_type": "code",
   "execution_count": null,
   "metadata": {},
   "outputs": [],
   "source": []
  }
 ],
 "metadata": {
  "kernelspec": {
   "display_name": "Python 3",
   "language": "python",
   "name": "python3"
  },
  "language_info": {
   "codemirror_mode": {
    "name": "ipython",
    "version": 3
   },
   "file_extension": ".py",
   "mimetype": "text/x-python",
   "name": "python",
   "nbconvert_exporter": "python",
   "pygments_lexer": "ipython3",
   "version": "3.7.3"
  }
 },
 "nbformat": 4,
 "nbformat_minor": 2
}
